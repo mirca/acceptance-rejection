{
 "cells": [
  {
   "cell_type": "code",
   "execution_count": 15,
   "metadata": {},
   "outputs": [],
   "source": [
    "%matplotlib inline\n",
    "from sampling import rejection_sampling\n",
    "import scipy.special as sps\n",
    "import numpy as np\n",
    "import matplotlib.pyplot as plt"
   ]
  },
  {
   "cell_type": "code",
   "execution_count": 3,
   "metadata": {
    "collapsed": true
   },
   "outputs": [],
   "source": [
    "def kappa_mu_pdf(x, kappa, mu):\n",
    "    return (2.0 * mu * np.power(1.0 + kappa, (mu + 1.0) / 2.0) * np.power(x, mu)\n",
    "            * np.exp(-mu * (1 + kappa) * x *x - mu * kappa + 2 * x * mu\n",
    "            * np.sqrt(kappa * ( 1 + kappa))) * sps.ive(mu - 1, 2 * mu * x\n",
    "            * np.sqrt(kappa * (1.0 + kappa))) / (np.power(kappa, (mu - 1.0) / 2.0)))"
   ]
  },
  {
   "cell_type": "code",
   "execution_count": 5,
   "metadata": {
    "collapsed": true
   },
   "outputs": [],
   "source": [
    "n_samples = int(1e6)\n",
    "kappa = 0.75\n",
    "mu = 0.87"
   ]
  },
  {
   "cell_type": "code",
   "execution_count": 4,
   "metadata": {},
   "outputs": [],
   "source": [
    "kappa_mu_samples = rejection_sampling(kappa_mu_pdf, 1e-6, 10,\n",
    "                                      n_samples, kappa, mu)"
   ]
  },
  {
   "cell_type": "code",
   "execution_count": 10,
   "metadata": {
    "collapsed": true
   },
   "outputs": [],
   "source": [
    "x = np.linspace(1e-6, 4, 1000)\n",
    "y = kappa_mu_pdf(x, kappa, mu)"
   ]
  },
  {
   "cell_type": "code",
   "execution_count": 16,
   "metadata": {},
   "outputs": [
    {
     "data": {
      "text/plain": [
       "(array([  1.11135655e-01,   2.58056390e-01,   3.73946205e-01,\n",
       "          4.74342041e-01,   5.59372774e-01,   6.34780629e-01,\n",
       "          7.02942685e-01,   7.47835132e-01,   7.87500866e-01,\n",
       "          8.14865927e-01,   8.21352778e-01,   8.16569978e-01,\n",
       "          8.01075998e-01,   7.70560590e-01,   7.36980754e-01,\n",
       "          6.85315061e-01,   6.30828375e-01,   5.72933587e-01,\n",
       "          5.12661718e-01,   4.52518727e-01,   3.92318457e-01,\n",
       "          3.31058525e-01,   2.80867767e-01,   2.32309462e-01,\n",
       "          1.86944463e-01,   1.51660575e-01,   1.19799110e-01,\n",
       "          9.23051712e-02,   7.16703974e-02,   5.51883540e-02,\n",
       "          3.98518913e-02,   2.92982284e-02,   2.20237905e-02,\n",
       "          1.55226195e-02,   1.10405347e-02,   7.74699001e-03,\n",
       "          4.88303807e-03,   3.52266089e-03,   2.21956276e-03,\n",
       "          1.56085381e-03,   8.16226304e-04,   5.44150869e-04,\n",
       "          3.86633513e-04,   3.15034714e-04,   1.00238318e-04,\n",
       "          5.72790389e-05,   4.29592792e-05,   7.15987986e-05,\n",
       "          2.86395194e-05,   2.86395194e-05]),\n",
       " array([  9.34110117e-04,   7.07676841e-02,   1.40601258e-01,\n",
       "          2.10434832e-01,   2.80268406e-01,   3.50101980e-01,\n",
       "          4.19935554e-01,   4.89769128e-01,   5.59602702e-01,\n",
       "          6.29436276e-01,   6.99269850e-01,   7.69103424e-01,\n",
       "          8.38936998e-01,   9.08770572e-01,   9.78604146e-01,\n",
       "          1.04843772e+00,   1.11827129e+00,   1.18810487e+00,\n",
       "          1.25793844e+00,   1.32777202e+00,   1.39760559e+00,\n",
       "          1.46743916e+00,   1.53727274e+00,   1.60710631e+00,\n",
       "          1.67693989e+00,   1.74677346e+00,   1.81660703e+00,\n",
       "          1.88644061e+00,   1.95627418e+00,   2.02610776e+00,\n",
       "          2.09594133e+00,   2.16577490e+00,   2.23560848e+00,\n",
       "          2.30544205e+00,   2.37527563e+00,   2.44510920e+00,\n",
       "          2.51494277e+00,   2.58477635e+00,   2.65460992e+00,\n",
       "          2.72444350e+00,   2.79427707e+00,   2.86411064e+00,\n",
       "          2.93394422e+00,   3.00377779e+00,   3.07361137e+00,\n",
       "          3.14344494e+00,   3.21327851e+00,   3.28311209e+00,\n",
       "          3.35294566e+00,   3.42277924e+00,   3.49261281e+00]),\n",
       " <a list of 50 Patch objects>)"
      ]
     },
     "execution_count": 16,
     "metadata": {},
     "output_type": "execute_result"
    },
    {
     "data": {
      "image/png": "[encoded data removed]",
      "text/plain": [
       "<matplotlib.figure.Figure at 0x119c51eb8>"
      ]
     },
     "metadata": {},
     "output_type": "display_data"
    }
   ],
   "source": [
    "plt.plot(x, y)\n",
    "plt.hist(kappa_mu_samples, bins=50, normed=True)"
   ]
  }
 ],
 "metadata": {
  "kernelspec": {
   "display_name": "Python 3",
   "language": "python",
   "name": "python3"
  },
  "language_info": {
   "codemirror_mode": {
    "name": "ipython",
    "version": 3
   },
   "file_extension": ".py",
   "mimetype": "text/x-python",
   "name": "python",
   "nbconvert_exporter": "python",
   "pygments_lexer": "ipython3",
   "version": "3.6.1"
  }
 },
 "nbformat": 4,
 "nbformat_minor": 2
}
