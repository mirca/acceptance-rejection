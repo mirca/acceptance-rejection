{
 "cells": [
  {
   "cell_type": "code",
   "execution_count": 1,
   "metadata": {
    "collapsed": true
   },
   "outputs": [],
   "source": [
    "%matplotlib inline\n",
    "from sampling import rejection_sampling\n",
    "import scipy.special as sps\n",
    "import numpy as np\n",
    "import matplotlib.pyplot as plt"
   ]
  },
  {
   "cell_type": "code",
   "execution_count": 2,
   "metadata": {
    "collapsed": true
   },
   "outputs": [],
   "source": [
    "def kappa_mu_pdf(x, kappa, mu):\n",
    "    return (2.0 * mu * np.power(1.0 + kappa, (mu + 1.0) / 2.0) * np.power(x, mu)\n",
    "            * np.exp(-mu * (1 + kappa) * x *x - mu * kappa + 2 * x * mu\n",
    "            * np.sqrt(kappa * ( 1 + kappa))) * sps.ive(mu - 1, 2 * mu * x\n",
    "            * np.sqrt(kappa * (1.0 + kappa))) / (np.power(kappa, (mu - 1.0) / 2.0)))"
   ]
  },
  {
   "cell_type": "code",
   "execution_count": 3,
   "metadata": {
    "collapsed": true
   },
   "outputs": [],
   "source": [
    "n_samples = int(1e6)\n",
    "kappa = 0.75\n",
    "mu = 0.87"
   ]
  },
  {
   "cell_type": "code",
   "execution_count": 4,
   "metadata": {
    "collapsed": true
   },
   "outputs": [],
   "source": [
    "kappa_mu_samples = rejection_sampling(kappa_mu_pdf, 1e-6, 3,\n",
    "                                      n_samples, kappa, mu)"
   ]
  },
  {
   "cell_type": "code",
   "execution_count": 5,
   "metadata": {
    "collapsed": true
   },
   "outputs": [],
   "source": [
    "x = np.linspace(1e-6, 3, 1000)\n",
    "y = kappa_mu_pdf(x, kappa, mu)"
   ]
  },
  {
   "cell_type": "code",
   "execution_count": 6,
   "metadata": {},
   "outputs": [
    {
     "data": {
      "text/plain": [
       "(array([  9.71969959e-02,   2.31305510e-01,   3.34971191e-01,\n",
       "          4.25316048e-01,   5.00106053e-01,   5.83932210e-01,\n",
       "          6.33997832e-01,   6.94049904e-01,   7.42248277e-01,\n",
       "          7.74358297e-01,   7.98999319e-01,   8.18372031e-01,\n",
       "          8.18221984e-01,   8.16488109e-01,   8.04367661e-01,\n",
       "          7.79809998e-01,   7.52384773e-01,   7.11622054e-01,\n",
       "          6.65891117e-01,   6.22377539e-01,   5.65126341e-01,\n",
       "          5.15977672e-01,   4.61277270e-01,   4.06893633e-01,\n",
       "          3.64413711e-01,   3.10413528e-01,   2.70401042e-01,\n",
       "          2.29454932e-01,   1.87408479e-01,   1.59032958e-01,\n",
       "          1.29557094e-01,   1.03032150e-01,   8.26924699e-02,\n",
       "          6.78711784e-02,   5.37501055e-02,   4.01458604e-02,\n",
       "          3.07929419e-02,   2.32906009e-02,   1.88725556e-02,\n",
       "          1.24038705e-02,   1.00364651e-02,   7.23559112e-03,\n",
       "          4.71813891e-03,   4.05126415e-03,   2.46743660e-03,\n",
       "          1.65051502e-03,   1.36709325e-03,   7.50234102e-04,\n",
       "          4.33468592e-04,   3.33437379e-04]),\n",
       " array([  1.91931578e-04,   6.01732092e-02,   1.20154487e-01,\n",
       "          1.80135765e-01,   2.40117042e-01,   3.00098320e-01,\n",
       "          3.60079598e-01,   4.20060875e-01,   4.80042153e-01,\n",
       "          5.40023431e-01,   6.00004708e-01,   6.59985986e-01,\n",
       "          7.19967264e-01,   7.79948541e-01,   8.39929819e-01,\n",
       "          8.99911097e-01,   9.59892374e-01,   1.01987365e+00,\n",
       "          1.07985493e+00,   1.13983621e+00,   1.19981748e+00,\n",
       "          1.25979876e+00,   1.31978004e+00,   1.37976132e+00,\n",
       "          1.43974260e+00,   1.49972387e+00,   1.55970515e+00,\n",
       "          1.61968643e+00,   1.67966771e+00,   1.73964898e+00,\n",
       "          1.79963026e+00,   1.85961154e+00,   1.91959282e+00,\n",
       "          1.97957409e+00,   2.03955537e+00,   2.09953665e+00,\n",
       "          2.15951793e+00,   2.21949921e+00,   2.27948048e+00,\n",
       "          2.33946176e+00,   2.39944304e+00,   2.45942432e+00,\n",
       "          2.51940559e+00,   2.57938687e+00,   2.63936815e+00,\n",
       "          2.69934943e+00,   2.75933070e+00,   2.81931198e+00,\n",
       "          2.87929326e+00,   2.93927454e+00,   2.99925581e+00]),\n",
       " <a list of 50 Patch objects>)"
      ]
     },
     "execution_count": 6,
     "metadata": {},
     "output_type": "execute_result"
    },
    {
     "data": {
      "image/png": "[encoded data removed]",
      "text/plain": [
       "<matplotlib.figure.Figure at 0x1107d9c50>"
      ]
     },
     "metadata": {},
     "output_type": "display_data"
    }
   ],
   "source": [
    "plt.plot(x, y)\n",
    "plt.hist(kappa_mu_samples, bins=50, normed=True)"
   ]
  }
 ],
 "metadata": {
  "kernelspec": {
   "display_name": "Python 3",
   "language": "python",
   "name": "python3"
  },
  "language_info": {
   "codemirror_mode": {
    "name": "ipython",
    "version": 3
   },
   "file_extension": ".py",
   "mimetype": "text/x-python",
   "name": "python",
   "nbconvert_exporter": "python",
   "pygments_lexer": "ipython3",
   "version": "3.6.1"
  }
 },
 "nbformat": 4,
 "nbformat_minor": 2
}
