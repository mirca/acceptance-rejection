{
 "cells": [
  {
   "cell_type": "code",
   "execution_count": 1,
   "metadata": {
    "collapsed": true
   },
   "outputs": [],
   "source": [
    "%matplotlib inline\n",
    "%config IPython.matplotlib.backend = \"retina\"\n",
    "import matplotlib.pyplot as plt\n",
    "from matplotlib import rcParams\n",
    "rcParams[\"figure.dpi\"] = 150\n",
    "rcParams[\"savefig.dpi\"] = 150\n",
    "rcParams[\"text.usetex\"] = True\n",
    "import tqdm"
   ]
  },
  {
   "cell_type": "code",
   "execution_count": 2,
   "metadata": {
    "collapsed": true
   },
   "outputs": [],
   "source": [
    "import numpy as np\n",
    "import scipy.special as sps\n",
    "import scipy.stats as stats\n",
    "import scipy.integrate as integrate"
   ]
  },
  {
   "cell_type": "code",
   "execution_count": 3,
   "metadata": {
    "collapsed": true
   },
   "outputs": [],
   "source": [
    "np.warnings.filterwarnings('ignore')"
   ]
  },
  {
   "cell_type": "code",
   "execution_count": 4,
   "metadata": {
    "collapsed": true
   },
   "outputs": [],
   "source": [
    "from maoud import AlphaMu"
   ]
  },
  {
   "cell_type": "code",
   "execution_count": 5,
   "metadata": {
    "collapsed": true
   },
   "outputs": [],
   "source": [
    "K = int(1e7) # Number of Monte Carlo realizations\n",
    "N = 1        # Number of transmitted samples\n",
    "alpha, mu = 2., 5."
   ]
  },
  {
   "cell_type": "code",
   "execution_count": 6,
   "metadata": {
    "collapsed": true
   },
   "outputs": [],
   "source": [
    "alphamu = AlphaMu(alpha, mu)"
   ]
  },
  {
   "cell_type": "code",
   "execution_count": 7,
   "metadata": {
    "collapsed": true
   },
   "outputs": [],
   "source": [
    "x = np.linspace(1e-3, 5., 1000) # Support of the fading density\n",
    "h = alphamu.rvs(x=x, size=K)"
   ]
  },
  {
   "cell_type": "code",
   "execution_count": null,
   "metadata": {},
   "outputs": [
    {
     "data": {
      "image/png": "[encoded data removed]",
      "text/plain": [
       "<matplotlib.figure.Figure at 0x114f15f60>"
      ]
     },
     "metadata": {},
     "output_type": "display_data"
    }
   ],
   "source": [
    "plt.plot(x, alphamu.pdf(x))\n",
    "hist = plt.hist(h, bins=100, density=True, color='blue', alpha=.3)"
   ]
  },
  {
   "cell_type": "markdown",
   "metadata": {},
   "source": [
    "## Simulation"
   ]
  },
  {
   "cell_type": "code",
   "execution_count": null,
   "metadata": {
    "collapsed": true
   },
   "outputs": [],
   "source": [
    "snr_list = np.linspace(-20, 50, 15) # signal to noise ratio in dB\n",
    "a = 1\n",
    "pf = np.zeros(len(snr_list))\n",
    "pm = np.zeros(len(snr_list))\n",
    "pm_awgn = np.zeros(len(snr_list))\n",
    "for l, snr_db in enumerate(snr_list):\n",
    "    sigma2 = a * (10 ** (-snr_db / 10.))\n",
    "    h = alphamu.rvs(x=x, size=K)\n",
    "    w = np.sqrt(sigma2)*np.random.randn(K)\n",
    "    y = h*a + w\n",
    "    # computing probabilities of false alarm and miss detection\n",
    "    pf[l] = np.sum(w > a / 2.)\n",
    "    pm[l] = np.sum((y-a)**2 > y ** 2)\n",
    "pf = pf / K\n",
    "pm = pm / K\n",
    "pe = .5*(pf + pm)"
   ]
  },
  {
   "cell_type": "markdown",
   "metadata": {},
   "source": [
    "## Theorectical Analysis"
   ]
  },
  {
   "cell_type": "code",
   "execution_count": null,
   "metadata": {
    "collapsed": true
   },
   "outputs": [],
   "source": [
    "snr_array = np.linspace(-20, 50, 1000)\n",
    "sigma = np.sqrt(a * (10 ** (-snr_array / 10.)))\n",
    "Pm = np.zeros(len(snr_array))\n",
    "Pf = 1.0 - stats.norm.cdf(a / (2 * sigma))"
   ]
  },
  {
   "cell_type": "code",
   "execution_count": null,
   "metadata": {},
   "outputs": [],
   "source": [
    "for l in tqdm.tqdm(range(len(snr_array))):\n",
    "    cdf = lambda x: stats.norm.cdf(a * (1 - 2 * x) / (2 * sigma[l]))*alphamu.pdf(x) \n",
    "    Pm[l] = integrate.quad(cdf, 0.0, np.inf, epsrel=1e-9, epsabs=0)[0]\n",
    "Pe = .5 * (Pf + Pm)"
   ]
  },
  {
   "cell_type": "markdown",
   "metadata": {},
   "source": [
    "## Plot"
   ]
  },
  {
   "cell_type": "code",
   "execution_count": null,
   "metadata": {},
   "outputs": [],
   "source": [
    "fig, ax = plt.subplots(figsize=(3.2360679775, 2))\n",
    "ax.semilogy(snr_array, Pe, 'k-', linewidth=1, label=r\"Theorectical\")\n",
    "ax.semilogy(snr_list, pe, 'o', color='red', markeredgecolor='k', mew=.6, markersize=3., label=r\"Simulation\")\n",
    "plt.xticks([-20, -10, 0, 10, 20, 30, 40, 50])\n",
    "plt.ylabel(r'Bit Error Rate')\n",
    "plt.xlabel(r'Signal-to-noise ratio [dB]')\n",
    "plt.legend(fancybox=False, numpoints=1, edgecolor='k')\n",
    "plt.savefig('ber.ps', transparent=True, bbox_inches='tight', pad_inches=.1)"
   ]
  },
  {
   "cell_type": "code",
   "execution_count": null,
   "metadata": {
    "collapsed": true
   },
   "outputs": [],
   "source": []
  }
 ],
 "metadata": {
  "kernelspec": {
   "display_name": "Python 3",
   "language": "python",
   "name": "python3"
  },
  "language_info": {
   "codemirror_mode": {
    "name": "ipython",
    "version": 3
   },
   "file_extension": ".py",
   "mimetype": "text/x-python",
   "name": "python",
   "nbconvert_exporter": "python",
   "pygments_lexer": "ipython3",
   "version": "3.6.4"
  }
 },
 "nbformat": 4,
 "nbformat_minor": 2
}
